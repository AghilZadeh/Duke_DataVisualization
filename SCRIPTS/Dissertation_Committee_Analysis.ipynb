{
 "cells": [
  {
   "cell_type": "markdown",
   "metadata": {},
   "source": [
    "# Import needed libraries"
   ]
  },
  {
   "cell_type": "code",
   "execution_count": 22,
   "metadata": {
    "collapsed": true
   },
   "outputs": [],
   "source": [
    "import numpy as np\n",
    "import pandas as pd\n",
    "import matplotlib.pyplot as plt\n",
    "%matplotlib inline\n",
    "from functools import reduce\n",
    "from datetime import datetime\n",
    "import datetime as dt\n",
    "import ipywidgets as wg\n",
    "from IPython.display import display\n",
    "import networkx as nx\n"
   ]
  },
  {
   "cell_type": "markdown",
   "metadata": {},
   "source": [
    "# Load the data files and take care of unwanted rows"
   ]
  },
  {
   "cell_type": "code",
   "execution_count": null,
   "metadata": {
    "collapsed": false
   },
   "outputs": [],
   "source": [
    "students_all = pd.read_excel(\"./ORIGIN-GRADUATE_SCHOOL/dissertation_committees_2012-2017.xlsx\")\n",
    "notgood1 = students_all['Advisor Role'] != \"Dissertation Committee Chair\" \n",
    "notgood2 = students_all['Advisor Role'] != \"Dissertation Committee CoChair\"\n",
    "notgood = notgood1 & notgood2\n",
    "students = students_all[notgood]\n",
    "\n",
    "faculties = pd.read_excel(\"./ORIGIN-SCHOLARSATDUKE/ScholarsAtDuke_Faculty_October2017.xlsx\")\n",
    "faculty = faculties[faculties['APPOINTMENT_TYPE'] == \"P\"]"
   ]
  },
  {
   "cell_type": "markdown",
   "metadata": {},
   "source": [
    "# Build a new data frame using students and faculty data frames that shows school name of each committee member"
   ]
  },
  {
   "cell_type": "code",
   "execution_count": null,
   "metadata": {
    "collapsed": false
   },
   "outputs": [],
   "source": [
    "df1 = faculty[['DUID','ORG_DISPLAY_NAME','SCHOOL_NAME']]\n",
    "df2 = students[['student random ID','Degree Nbr','Degree','Confer Dt','Compl Term Descr','Advisor Role','Advisor','Acad Org','Advisor Duke UID']]\n",
    "df3 = df2.merge(df1, left_on='Advisor Duke UID', right_on='DUID', how='left')\n",
    "df_final = df3.drop_duplicates()\n",
    "df_final = df_final.reset_index()"
   ]
  },
  {
   "cell_type": "markdown",
   "metadata": {},
   "source": [
    "# Extract the names of organizations and departments"
   ]
  },
  {
   "cell_type": "code",
   "execution_count": 8,
   "metadata": {
    "collapsed": false
   },
   "outputs": [
    {
     "name": "stdout",
     "output_type": "stream",
     "text": [
      "['Art, Art History & Visual Studies' 'Cultural Anthropology' 'Literature'\n",
      " nan 'History' 'School of Law' 'Romance Studies' 'English'\n",
      " 'Religious Studies' 'Classical Studies' 'Economics'\n",
      " 'Evolutionary Anthropology' 'Biology' 'Fuqua School of Business'\n",
      " 'Biochemistry' 'Medicine, Infectious Diseases' 'Cell Biology'\n",
      " 'Neurobiology' 'Molecular Genetics and Microbiology' 'Chemistry'\n",
      " 'Radiology' 'Medicine, Endocrinology, Metabolism, and Nutrition'\n",
      " 'Statistical Science' 'Computer Science' 'Pathology'\n",
      " 'Medicine, Cardiology' 'Pharmacology & Cancer Biology'\n",
      " 'Biostatistics & Bioinformatics'\n",
      " 'Mechanical Engineering and Materials Science'\n",
      " 'Radiology, Cardiothoracic Imaging' 'Surgery, Surgical Sciences'\n",
      " 'Philosophy' 'Environmental Sciences and Policy'\n",
      " 'Pediatrics, Medical Genetics' 'Mathematics' 'Pediatrics, Neonatology'\n",
      " 'Physics' 'Marine Science and Conservation' 'Dermatology'\n",
      " 'Biomedical Engineering' 'Neurosurgery' 'Radiation Oncology'\n",
      " 'Surgery, Cardiovascular and Thoracic Surgery'\n",
      " 'Social Science Research Institute' 'Electrical and Computer Engineering'\n",
      " 'Obstetrics and Gynecology, Maternal Fetal Medicine/Midwifery Service'\n",
      " 'Ophthalmology, Corneal Diseases'\n",
      " 'Ophthalmology, Vitreoretinal Diseases & Surgery'\n",
      " 'Surgery, Advanced Oncologic and Gastrointestinal Surgery'\n",
      " 'Surgery, Plastic, Maxillofacial, and Oral Surgery'\n",
      " 'Radiology, Abdominal Imaging' 'Medicine, Geriatrics'\n",
      " 'Medicine, Rheumatology and Immunology'\n",
      " 'Surgery, Head and Neck Surgery and Communication Sciences'\n",
      " 'Civil and Environmental Engineering' 'Psychology and Neuroscience'\n",
      " 'Psychiatry & Behavioral Sciences, Translational Neuroscience'\n",
      " 'Radiology, Pediatric Radiology' 'Orthopaedics'\n",
      " 'Neurology, General & Community Neurology' 'Radiology, Nuclear Medicine'\n",
      " 'Radiology, Breast Imaging' 'Neurology, Movement Disorders'\n",
      " 'Obstetrics and Gynecology, Urogynecology' 'Anesthesiology'\n",
      " 'Psychiatry & Behavioral Sciences, Brain Stimulation and Neurophysiology'\n",
      " 'Medicine, Medical Oncology' 'Radiology, Neuroradiology'\n",
      " 'Pediatrics, Endocrinology' 'Pediatrics, Cardiology'\n",
      " 'Neurology, Neuromuscular Disease' 'Immunology' 'Ophthalmology'\n",
      " 'Neurology, Neurocritical Care' 'Medicine, Gastroenterology'\n",
      " 'Asian and Middle Eastern Studies' 'Music'\n",
      " 'Gender, Sexuality & Feminist Studies' 'Divinity School'\n",
      " 'Medicine, Hematologic Malignancies and Cellular Therapy'\n",
      " 'Surgery, Vascular Surgery' 'Medicine, Medical Genetics'\n",
      " 'Medicine, Pulmonary, Allergy, and Critical Care Medicine'\n",
      " 'Neurology, Headache and Pain' 'Medicine, Duke Human Vaccine Institute'\n",
      " 'Germanic Languages' 'Pratt School of Engineering'\n",
      " 'Earth and Ocean Sciences' 'Sanford School of Public Policy'\n",
      " 'Political Science' 'Duke University Energy Initiative'\n",
      " 'School of Nursing' 'Obstetrics and Gynecology, Gynecologic Oncology'\n",
      " 'African and African American Studies' 'Slavic and Eurasian Studies'\n",
      " 'Psychiatry & Behavioral Sciences, Addictions'\n",
      " 'Nicholas School of the Environment' 'Sociology' 'Medicine, Nephrology'\n",
      " 'Pediatrics, Infectious Diseases' 'Neurology, MS & Neuroimmunology'\n",
      " 'Medicine, Hematology' 'Neurology, Epilepsy and Sleep'\n",
      " 'Pediatrics, Primary Care Pediatrics' 'Neurology, Behavioral Neurology'\n",
      " 'Institute for Decision and Statistical Science'\n",
      " 'Pediatrics, Hematology-Oncology' 'Pediatrics' 'Surgery, Urology'\n",
      " 'Theater Studies'\n",
      " 'Psychiatry & Behavioral Sciences, Geriatric Behavioral Health'\n",
      " 'Duke Institute for Brain Sciences' 'Ophthalmology, Glaucoma'\n",
      " 'Psychiatry, Child & Family Mental Health and Developmental Neuroscience'\n",
      " 'Community and Family Medicine, Family Medicine'\n",
      " 'Psychiatry & Behavioral Sciences, Behavioral Medicine'\n",
      " 'Population Health Sciences'\n",
      " 'Community and Family Medicine, Community Health'\n",
      " 'Psychiatry & Behavioral Sciences, General Psychiatry'\n",
      " 'Community and Family Medicine'\n",
      " 'Anesthesiology, General, Vascular, High Risk Transplant & Critical Care'\n",
      " 'Surgery, Surgical Oncology Molecular Theraputics'\n",
      " 'Global Health Institute' 'Surgery, Metabolic and Weight Loss Surgery'\n",
      " 'Education'\n",
      " 'Psychiatry & Behavioral Sciences, Social and Community Psychiatry']\n"
     ]
    },
    {
     "data": {
      "text/plain": [
       "126"
      ]
     },
     "execution_count": 8,
     "metadata": {},
     "output_type": "execute_result"
    }
   ],
   "source": [
    "print(df_final.ORG_DISPLAY_NAME.unique())\n",
    "len(df_final.ORG_DISPLAY_NAME.unique())"
   ]
  },
  {
   "cell_type": "markdown",
   "metadata": {},
   "source": [
    "# Add the school names to each student's row"
   ]
  },
  {
   "cell_type": "code",
   "execution_count": null,
   "metadata": {
    "collapsed": false,
    "scrolled": true
   },
   "outputs": [],
   "source": [
    "df4 = df3[df3['Advisor Role'] == \"Dissertation Advisor\"]\n",
    "df5 = df4[['student random ID','ORG_DISPLAY_NAME','SCHOOL_NAME']]\n",
    "df5.columns = ['student random ID','STU_DEPT','STU_SCHOOL']"
   ]
  },
  {
   "cell_type": "markdown",
   "metadata": {},
   "source": [
    "# Seperate the info for different years to create dynamical data"
   ]
  },
  {
   "cell_type": "code",
   "execution_count": 10,
   "metadata": {
    "collapsed": true
   },
   "outputs": [],
   "source": [
    "orgs = pd.Series(df_final.ORG_DISPLAY_NAME.unique()) #advisors\n",
    "depts = pd.Series(df_final['Acad Org'].unique()) #students\n",
    "schools = pd.Series(df_final.SCHOOL_NAME.unique()) #advisors\n",
    "\n",
    "\n",
    "def f1(timeind):\n",
    "    graph1 = pd.DataFrame(graph_big[:][:][timeind])\n",
    "    plt.imshow(np.transpose(graph1), cmap='hot', interpolation='nearest')\n",
    "    plt.show()\n",
    "\n",
    "def f2(timeind):\n",
    "    graph1 = pd.DataFrame(graph_small[:][:][timeind])\n",
    "    plt.imshow(np.transpose(graph1), cmap='hot', interpolation='nearest')\n",
    "    plt.show()\n",
    "    \n",
    "\n",
    "time_length = 3*6;\n",
    "org_length = len(orgs)\n",
    "dept_length = len(depts)\n",
    "school_length = len(schools)\n",
    "graph_big = np.zeros((dept_length,org_length,time_length))\n",
    "graph_small = np.zeros((dept_length,school_length,time_length))\n",
    "\n",
    "d1 = dict(depts.items())\n",
    "p1 = {val:key for (key, val) in d1.items()}\n",
    "d2 = dict(orgs.items())\n",
    "p2 = {val:key for (key, val) in d2.items()}\n",
    "d3 = dict(schools.items())\n",
    "p3 = {val:key for (key, val) in d3.items()}\n",
    "semdict={5:0,9:1,12:2}\n",
    "\n",
    "for i in range(0,len(df_final)):\n",
    "    dept = df_final['Acad Org'][i]\n",
    "    org = df_final['ORG_DISPLAY_NAME'][i]\n",
    "    school = df_final['SCHOOL_NAME'][i]\n",
    "    time = df_final['Confer Dt'][i]\n",
    "    year = time.year\n",
    "    month = time.month\n",
    "    sem = semdict[month]\n",
    "    semester = (year-2012)*3+sem\n",
    "    n1 = p1[dept]\n",
    "    n2 = p2[org]\n",
    "    n3 = p3[school]\n",
    "    graph_big[n1][n2][semester] += 1\n",
    "    graph_small[n1][n3][semester] += 1\n",
    "        "
   ]
  },
  {
   "cell_type": "markdown",
   "metadata": {},
   "source": [
    "# Plots"
   ]
  },
  {
   "cell_type": "code",
   "execution_count": null,
   "metadata": {
    "collapsed": false
   },
   "outputs": [],
   "source": [
    "semester = wg.IntSlider(value=0, min=0, max=17, description='Semester')    \n",
    "wg.interact(f1, timeind=semester)\n",
    "\n",
    "semester = wg.IntSlider(value=0, min=0, max=17, description='Semester')    \n",
    "wg.interact(f2, timeind=semester)"
   ]
  },
  {
   "cell_type": "markdown",
   "metadata": {},
   "source": [
    "# Prepare the input files for Gephi graph visualization"
   ]
  },
  {
   "cell_type": "code",
   "execution_count": 13,
   "metadata": {
    "collapsed": true
   },
   "outputs": [],
   "source": [
    "dfsmall = pd.DataFrame(data=graph_small[:,:,10], index=depts, columns=schools)\n",
    "dfbig = pd.DataFrame(data=graph_big[:,:,10], index=depts, columns=orgs)\n",
    "\n",
    "dfsmall = dfsmall.loc[:, dfsmall.columns.notnull()]\n",
    "dfsmall.to_csv('smallgraph.csv',sep=';')\n",
    "dfbig = dfbig.loc[:, dfbig.columns.notnull()]\n",
    "dfbig.to_csv('biggraph.csv',sep=';')"
   ]
  },
  {
   "cell_type": "code",
   "execution_count": 81,
   "metadata": {
    "collapsed": true
   },
   "outputs": [],
   "source": [
    "#define the matrix and dictionaries, let the code change it to an edge table for Gephi\n",
    "m = graph_small \n",
    "\n",
    "# dictionaries\n",
    "d1 = dict(depts.items())\n",
    "p1 = {val:key for (key, val) in d1.items()}\n",
    "d2 = dict(orgs.items())\n",
    "p2 = {val:key for (key, val) in d2.items()}\n",
    "d3 = dict(schools.items())\n",
    "p3 = {val:key for (key, val) in d3.items()}\n",
    "semdict={5:0,9:1,12:2}\n",
    "psem = {val:key for (key, val) in semdict.items()}\n",
    "\n",
    "# creating the list of edges\n",
    "columns = ['Source','Target','Interval','Weight']\n",
    "edgelist = pd.DataFrame(columns=columns)\n",
    "l = 0\n",
    "for i in range(0,m.shape[0]):\n",
    "    for j in range(0,m.shape[1]):\n",
    "        for k in range(0,m.shape[2]):\n",
    "            Weight = m[i][j][k]\n",
    "            if Weight!=0:\n",
    "                Source = d1[i]\n",
    "                Target = d3[j]\n",
    "                month = psem[k%3]   #set here how you define date, yyyy-mm-dd\n",
    "                year = k//3 + 2012\n",
    "                #Interval = dt.date(year, month, 1)\n",
    "                #Interval = \"<[\"+str(k)+\",\"+str(k)+\"]>\"\n",
    "                Interval = k\n",
    "                edgelist.loc[l] = [Source, Target, Interval, Weight]\n",
    "                l += 1\n",
    "\n",
    "edgelist = edgelist.dropna(axis=0, how='any') # dropping rows with any NaN element\n",
    "edgelist.to_csv('edgelist.csv', sep=';', index=False)"
   ]
  },
  {
   "cell_type": "code",
   "execution_count": null,
   "metadata": {
    "collapsed": true
   },
   "outputs": [],
   "source": []
  }
 ],
 "metadata": {
  "kernelspec": {
   "display_name": "Python 3",
   "language": "python",
   "name": "python3"
  },
  "language_info": {
   "codemirror_mode": {
    "name": "ipython",
    "version": 3
   },
   "file_extension": ".py",
   "mimetype": "text/x-python",
   "name": "python",
   "nbconvert_exporter": "python",
   "pygments_lexer": "ipython3",
   "version": "3.6.0"
  }
 },
 "nbformat": 4,
 "nbformat_minor": 2
}
